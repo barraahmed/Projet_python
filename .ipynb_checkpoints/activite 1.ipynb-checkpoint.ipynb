{
 "cells": [
  {
   "cell_type": "code",
   "execution_count": 1,
   "id": "6d9c7a7b",
   "metadata": {},
   "outputs": [
    {
     "name": "stdout",
     "output_type": "stream",
     "text": [
      "Temps d'exeuction(en secondes): 2.0134363174438477\n"
     ]
    }
   ],
   "source": [
    "### ACTIVITE 1\n",
    "\n",
    "##verification si il ya une solution\n",
    "import time\n",
    "debut_chrono=time.time()\n",
    "time.sleep(2)\n",
    "\n",
    "import math\n",
    "def verification(x,y):\n",
    "    \n",
    "    p=15486869\n",
    "    if x**2 % p==y:\n",
    "        return \"vrai\"\n",
    "    else:\n",
    "        return \"faux\"\n",
    "    \n",
    "fin_chrono=time.time()\n",
    "total_chrono=fin_chrono - debut_chrono\n",
    "print(\"Temps d'exeuction(en secondes):\",total_chrono)\n",
    "\n",
    "\n",
    "\n",
    "##affiche la solution si il existe\n",
    "import math\n",
    "def racine(y):\n",
    "    p=15486869\n",
    "    n=10000000\n",
    "    h1=y%p\n",
    "    for i in range(0,n,1):\n",
    "        if  i % p == h1  :\n",
    "            x=math.sqrt(i)\n",
    "            return (x)\n",
    "        #else:\n",
    "            #return \"pas de solution\"\n",
    "            \n",
    "### Calcule du solution en utilisant une fonction approchee\n",
    "\n",
    "import math\n",
    "def racine_approchee(y,marge):\n",
    "    p=15486869\n",
    "    n=10000000\n",
    "    for i in range(0,n,1):\n",
    "        if (i - y) % p <= marge :\n",
    "            x = math.sqrt(i)\n",
    "            return x\n",
    "\n",
    "\n",
    "\n",
    "\n",
    "\n",
    "\n",
    "   #activite2- Outils pour les listes\n",
    "   #constante globale de longueur\n",
    "\n",
    "    ##question1##\n",
    "     #Addition des termes de deux LiSte de meme longueur\n",
    "def addition(liste1,liste2):\n",
    "    liste = []\n",
    "    for i in range(len(liste1)):\n",
    "        liste = liste + [ (liste1[i]+liste2[i]) % 100 ]\n",
    "    return liste\n",
    "\n",
    "\n",
    "\n",
    "#question2\n",
    "def est_plus_petit(liste,liste_max):\n",
    "    i=0\n",
    "    b=len(liste_max)\n",
    "    while(i<b)and(liste[i]<=liste_max[i]):\n",
    "        i=i+1\n",
    "        if i==b:\n",
    "            return \"vrai\"\n",
    "        else:\n",
    "            return \"faux\"\n",
    "  \n",
    "  #question 🙋 3#\n",
    " ### Convertition d'un chaine de caracter vers une liste de nombre\n",
    "def phrase_vers_liste(phrase):\n",
    "    \n",
    "    liste = [ord(c) % 100 for c in phrase] \n",
    "    N=6\n",
    "    while len(liste) % N > 0:\n",
    "          liste = [0] + liste\n",
    "    return liste\n",
    "\n",
    "\n",
    "### ACTIVITE 3\n",
    "### Un tour\n",
    "\n",
    "p = [7,11,13,17,19,23]\n",
    "N=6\n",
    "def un_tour(bloc): \n",
    "    ## Additions\n",
    "    bloc[1] = (bloc[1]+bloc[0]) \n",
    "    bloc[3] = (bloc[3]+bloc[2]) \n",
    "    bloc[5] = (bloc[5]+bloc[4]) \n",
    "    \n",
    "    ## Multiplications \n",
    "    for i in range(N):\n",
    "        bloc[i] = (p[i]*bloc[i]+1) \n",
    "        \n",
    "    ## Permutation\n",
    "    bloc = [bloc[N-1]] + bloc[:N-1]\n",
    "    \n",
    "    ## Reduction modulo 100\n",
    "    bloc=[bloc[j] % 100 for j in range(len(bloc))]\n",
    "    return bloc\n",
    "\n",
    "### Dix tour \n",
    "def dix_tours(bloc):\n",
    "    for i in range(10):\n",
    "        bloc = un_tour(bloc)\n",
    "    return bloc\n",
    "\n",
    "  \n",
    "#### la fonction hachage\n",
    "\n",
    "def hachage(liste):\n",
    "    \n",
    "    while len(liste)>N:\n",
    "        bloc1 = liste[0:N] # Premier bloc\n",
    "        bloc2 = liste[N:2*N] # Second bloc\n",
    "        fin_liste = liste[2*N:] # Le reste\n",
    "\n",
    "        bloc1 = dix_tours(bloc1) \n",
    "        bloc2 = addition(bloc1,bloc2)\n",
    "        blocn=dix_tours(bloc2)\n",
    "        \n",
    "        liste = addition(blocn,fin_liste)\n",
    "        \n",
    "        liste = dix_tours(liste) \n",
    "        return liste\n",
    "        \n",
    "\n",
    "\n",
    "              "
   ]
  },
  {
   "cell_type": "code",
   "execution_count": 8,
   "id": "7279eb58",
   "metadata": {},
   "outputs": [
    {
     "data": {
      "text/plain": [
       "'vrai'"
      ]
     },
     "execution_count": 8,
     "metadata": {},
     "output_type": "execute_result"
    }
   ],
   "source": [
    "verification(6543210,8371779)"
   ]
  },
  {
   "cell_type": "code",
   "execution_count": 9,
   "id": "84dc7495",
   "metadata": {},
   "outputs": [
    {
     "data": {
      "text/plain": [
       "2893.402668140057"
      ]
     },
     "execution_count": 9,
     "metadata": {},
     "output_type": "execute_result"
    }
   ],
   "source": [
    "racine(8371779)"
   ]
  },
  {
   "cell_type": "code",
   "execution_count": 12,
   "id": "a4b1478a",
   "metadata": {},
   "outputs": [
    {
     "data": {
      "text/plain": [
       "[2, 3, 4, 2, 3, 4]"
      ]
     },
     "execution_count": 12,
     "metadata": {},
     "output_type": "execute_result"
    }
   ],
   "source": [
    "  \n",
    "addition([1,2,3,4,5,6],[1,1,1,98,98,98])"
   ]
  },
  {
   "cell_type": "code",
   "execution_count": 13,
   "id": "bdcdbd33",
   "metadata": {},
   "outputs": [
    {
     "data": {
      "text/plain": [
       "'faux'"
      ]
     },
     "execution_count": 13,
     "metadata": {},
     "output_type": "execute_result"
    }
   ],
   "source": [
    "est_plus_petit([0,0,1,2,3,4],[0,0,5])"
   ]
  },
  {
   "cell_type": "code",
   "execution_count": 15,
   "id": "4de7a25e",
   "metadata": {},
   "outputs": [
    {
     "data": {
      "text/plain": [
       "[0, 0, 0, 0, 18, 5, 18, 1, 32, 9, 11, 5]"
      ]
     },
     "execution_count": 15,
     "metadata": {},
     "output_type": "execute_result"
    }
   ],
   "source": [
    "phrase_vers_liste(\"vive moi\")"
   ]
  },
  {
   "cell_type": "code",
   "execution_count": 11,
   "id": "7342a68e",
   "metadata": {},
   "outputs": [
    {
     "data": {
      "text/plain": [
       "2893.402668140057"
      ]
     },
     "execution_count": 11,
     "metadata": {},
     "output_type": "execute_result"
    }
   ],
   "source": [
    "racine_approchee(8371779,20)"
   ]
  },
  {
   "cell_type": "code",
   "execution_count": 16,
   "id": "b15a0c15",
   "metadata": {},
   "outputs": [
    {
     "data": {
      "text/plain": [
       "[18, 74, 4, 42, 77, 42]"
      ]
     },
     "execution_count": 16,
     "metadata": {},
     "output_type": "execute_result"
    }
   ],
   "source": [
    "dix_tours([1, 1, 2, 3, 4, 5])"
   ]
  },
  {
   "cell_type": "code",
   "execution_count": 2,
   "id": "27749db2",
   "metadata": {},
   "outputs": [
    {
     "data": {
      "text/plain": [
       "[77, 91, 5, 91, 89, 99]"
      ]
     },
     "execution_count": 2,
     "metadata": {},
     "output_type": "execute_result"
    }
   ],
   "source": [
    "hachage([0, 1, 2, 3, 4, 5, 1, 1, 1, 1, 1, 1, 10, 10, 10, 10, 10, 10])"
   ]
  },
  {
   "cell_type": "code",
   "execution_count": null,
   "id": "a0ec07c1",
   "metadata": {},
   "outputs": [],
   "source": []
  }
 ],
 "metadata": {
  "kernelspec": {
   "display_name": "Python 3 (ipykernel)",
   "language": "python",
   "name": "python3"
  },
  "language_info": {
   "codemirror_mode": {
    "name": "ipython",
    "version": 3
   },
   "file_extension": ".py",
   "mimetype": "text/x-python",
   "name": "python",
   "nbconvert_exporter": "python",
   "pygments_lexer": "ipython3",
   "version": "3.10.0"
  }
 },
 "nbformat": 4,
 "nbformat_minor": 5
}
