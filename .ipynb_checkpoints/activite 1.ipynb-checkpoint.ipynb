{
 "cells": [
  {
   "cell_type": "code",
   "execution_count": 22,
   "id": "6d9c7a7b",
   "metadata": {},
   "outputs": [
    {
     "name": "stdout",
     "output_type": "stream",
     "text": [
      "Temps d'exeuction(en secondes): 2.0109031200408936\n"
     ]
    }
   ],
   "source": [
    "##verification si il ya une solution\n",
    "import time\n",
    "debut_chrono=time.time()\n",
    "time.sleep(2)\n",
    "\n",
    "import math\n",
    "def verification(x,y):\n",
    "    \n",
    "    p=15486869\n",
    "    if x**2 % p==y:\n",
    "        return \"vrai\"\n",
    "    else:\n",
    "        return \"faux\"\n",
    "    \n",
    "fin_chrono=time.time()\n",
    "total_chrono=fin_chrono - debut_chrono\n",
    "print(\"Temps d'exeuction(en secondes):\",total_chrono)\n",
    "\n",
    "##affiche la solution si il existe\n",
    "import math\n",
    "def racine(y):\n",
    "    p=15486869\n",
    "    #y=8371779\n",
    "    n=10000000\n",
    "    h1=y%p\n",
    "    for i in range(0,n,1):\n",
    "        if  i % p == h1 and i!= y :\n",
    "            x=math.sqrt(i)\n",
    "            return (x)\n",
    "        else:\n",
    "            return \"pas de solution\"\n",
    "        ##############################################\n",
    "from random import randint\n",
    "from time import *\n",
    "   #activite2- Outils pour les listes\n",
    "   #constante globale de longueur\n",
    "\n",
    "    ##question1##\n",
    "     #Addition des termes de deux LiSte de meme longueur\n",
    "def addition(liste1,liste2):\n",
    "    liste_somme=[]\n",
    "    for i in range(len(liste1)):\n",
    "        liste_somme=liste_somme + [(liste1[i]+liste2[i])%100]\n",
    "        return liste_somme \n",
    "\n",
    "#question2\n",
    "def est_plus_petit(liste,liste_max):\n",
    "    i=0\n",
    "    b=len(liste_max)\n",
    "    while(i<b)and(liste[i]<=liste_max[i]):\n",
    "        i=i+1\n",
    "        if i==b:\n",
    "            return True\n",
    "        else:\n",
    "            return False\n",
    "  \n",
    "  #question 🙋 3#\n",
    "    N=6\n",
    "    max=[0,0,5]\n",
    "    def phrase_vers_liste(phrase):\n",
    "    #transformé  une liste ver un nombre modulo 100#\n",
    "       liste=[ord(c)%100 for c in phrase]\n",
    "    #rajouter de 0 si  besoin\n",
    "    while len(liste)% N>0:\n",
    "        liste=[0]+liste\n",
    "        return  liste\n",
    "    #pour tester on donne à la  phrase un mot\n",
    "    phrase=\"vive moi\"\n",
    "    print(phrase_vers_liste(phrase))\n",
    "\n",
    "\n",
    "\n",
    "  \n",
    "\n",
    "\n",
    "              "
   ]
  },
  {
   "cell_type": "code",
   "execution_count": 6,
   "id": "7279eb58",
   "metadata": {},
   "outputs": [
    {
     "data": {
      "text/plain": [
       "'vrai'"
      ]
     },
     "execution_count": 6,
     "metadata": {},
     "output_type": "execute_result"
    }
   ],
   "source": [
    "verification(6543210,8371779)"
   ]
  },
  {
   "cell_type": "code",
   "execution_count": 7,
   "id": "84dc7495",
   "metadata": {},
   "outputs": [
    {
     "data": {
      "text/plain": [
       "'pas de solution'"
      ]
     },
     "execution_count": 7,
     "metadata": {},
     "output_type": "execute_result"
    }
   ],
   "source": [
    "racine(8371779)"
   ]
  },
  {
   "cell_type": "code",
   "execution_count": 5,
   "id": "a4b1478a",
   "metadata": {},
   "outputs": [
    {
     "data": {
      "text/plain": [
       "[2]"
      ]
     },
     "execution_count": 5,
     "metadata": {},
     "output_type": "execute_result"
    }
   ],
   "source": [
    "  \n",
    "addition([1,2,3,4,5,6],[1,1,1,98,98,98])"
   ]
  },
  {
   "cell_type": "code",
   "execution_count": 8,
   "id": "bdcdbd33",
   "metadata": {},
   "outputs": [
    {
     "data": {
      "text/plain": [
       "False"
      ]
     },
     "execution_count": 8,
     "metadata": {},
     "output_type": "execute_result"
    }
   ],
   "source": [
    "est_plus_petit([0,0,1,2,3,4],[0,0,5])"
   ]
  },
  {
   "cell_type": "code",
   "execution_count": 16,
   "id": "4de7a25e",
   "metadata": {},
   "outputs": [],
   "source": [
    "phrase=\"vive moi\""
   ]
  },
  {
   "cell_type": "code",
   "execution_count": null,
   "id": "7342a68e",
   "metadata": {},
   "outputs": [],
   "source": []
  },
  {
   "cell_type": "code",
   "execution_count": null,
   "id": "b15a0c15",
   "metadata": {},
   "outputs": [],
   "source": []
  },
  {
   "cell_type": "code",
   "execution_count": null,
   "id": "27749db2",
   "metadata": {},
   "outputs": [],
   "source": []
  }
 ],
 "metadata": {
  "kernelspec": {
   "display_name": "Python 3 (ipykernel)",
   "language": "python",
   "name": "python3"
  },
  "language_info": {
   "codemirror_mode": {
    "name": "ipython",
    "version": 3
   },
   "file_extension": ".py",
   "mimetype": "text/x-python",
   "name": "python",
   "nbconvert_exporter": "python",
   "pygments_lexer": "ipython3",
   "version": "3.9.7"
  }
 },
 "nbformat": 4,
 "nbformat_minor": 5
}
