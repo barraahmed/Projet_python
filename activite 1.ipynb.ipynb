{
 "cells": [
  {
   "cell_type": "code",
   "execution_count": 1,
   "id": "6d9c7a7b",
   "metadata": {},
   "outputs": [
    {
     "name": "stdout",
     "output_type": "stream",
     "text": [
      "Temps d'exeuction(en secondes): 2.004603385925293\n"
     ]
    }
   ],
   "source": [
    "### ACTIVITE 1\n",
    "\n",
    "##verification si il ya une solution\n",
    "import time\n",
    "import math\n",
    "debut_chrono=time.time()\n",
    "time.sleep(2)\n",
    "\n",
    "\n",
    "def verification(x,y):\n",
    "    \n",
    "    p=15486869\n",
    "    if x**2 % p==y:\n",
    "        return \"vrai\"\n",
    "    else:\n",
    "        return \"faux\"\n",
    "    \n",
    "fin_chrono=time.time()\n",
    "total_chrono=fin_chrono - debut_chrono\n",
    "print(\"Temps d'exeuction(en secondes):\",total_chrono)\n",
    "\n",
    "\n",
    "\n",
    "##affiche la solution si il existe\n",
    "import math\n",
    "def racine(y):\n",
    "    p=15486869\n",
    "    n=10000000\n",
    "    h1=y%p\n",
    "    for i in range(0,n,1):\n",
    "        if  i % p == h1  :\n",
    "            x=math.sqrt(i)\n",
    "            return (x)\n",
    "        #else:\n",
    "            #return \"pas de solution\"\n",
    "            \n",
    "### Calcule du solution en utilisant une fonction approchee\n",
    "\n",
    "import math\n",
    "def racine_approchee(y,marge):\n",
    "    p=15486869\n",
    "    n=10000000\n",
    "    for i in range(0,n,1):\n",
    "        if (i - y) % p <= marge :\n",
    "            x = math.sqrt(i)\n",
    "            return x\n",
    "\n",
    "\n",
    "\n",
    "\n",
    "\n",
    "\n",
    "   #activite2- Outils pour les listes\n",
    "   #constante globale de longueur\n",
    "\n",
    "    ##question1##\n",
    "     #Addition des termes de deux LiSte de meme longueur\n",
    "def addition(liste1,liste2):\n",
    "    liste = []\n",
    "    for i in range(len(liste1)):\n",
    "        liste = liste + [ (liste1[i]+liste2[i]) % 100 ]\n",
    "    return liste\n",
    "\n",
    "\n",
    "\n",
    "#question2\n",
    "def est_plus_petit(liste,liste_max):\n",
    "    i=0\n",
    "    b=len(liste_max)\n",
    "    while(i<b)and(liste[i]<=liste_max[i]):\n",
    "        i=i+1\n",
    "        if i==b:\n",
    "            return \"vrai\"\n",
    "        else:\n",
    "            return \"faux\"\n",
    "  \n",
    "  #question 🙋 3#\n",
    " ### Convertition d'un chaine de caracter vers une liste de nombre\n",
    "def phrase_vers_liste(phrase):\n",
    "    \n",
    "    liste = [ord(c) % 100 for c in phrase] \n",
    "    N=6\n",
    "    while len(liste) % N > 0:\n",
    "          liste = [0] + liste\n",
    "    return liste\n",
    "\n",
    "\n",
    "### ACTIVITE 3\n",
    "### Un tour\n",
    "\n",
    "p = [7,11,13,17,19,23]\n",
    "N=6\n",
    "def un_tour(bloc): \n",
    "    ## Additions\n",
    "    bloc[1] = (bloc[1]+bloc[0]) \n",
    "    bloc[3] = (bloc[3]+bloc[2]) \n",
    "    bloc[5] = (bloc[5]+bloc[4]) \n",
    "    \n",
    "    ## Multiplications \n",
    "    for i in range(N):\n",
    "        bloc[i] = (p[i]*bloc[i]+1) \n",
    "        \n",
    "    ## Permutation\n",
    "    bloc = [bloc[N-1]] + bloc[:N-1]\n",
    "    \n",
    "    ## Reduction modulo 100\n",
    "    bloc=[bloc[j] % 100 for j in range(len(bloc))]\n",
    "    return bloc\n",
    "\n",
    "### Dix tour \n",
    "def dix_tours(bloc):\n",
    "    for i in range(10):\n",
    "        bloc = un_tour(bloc)\n",
    "    return bloc\n",
    "\n",
    "  \n",
    "#### la fonction hachage\n",
    "    \n",
    "N=6\n",
    "def hachage(liste):\n",
    "    \n",
    "    while len(liste)>N:\n",
    "        bloc1 = liste[0:N] # Premier bloc\n",
    "        bloc2 = liste[N:2*N] # Second bloc\n",
    "        fin_liste = liste[2*N:] # Le reste\n",
    "\n",
    "        bloc1 = dix_tours(bloc1) \n",
    "        bloc2 = addition(bloc1,bloc2)\n",
    "        #blocn=dix_tours(bloc2)\n",
    "        \n",
    "        liste = bloc2 + fin_liste\n",
    "        \n",
    "        liste = dix_tours(liste) \n",
    "        return liste\n",
    "    \n",
    "### ACTIVITE 4\n",
    "### FONCTION VEREFIER LE PREUVE DE TRAVAIL\n",
    "from time import *\n",
    "Max = [0,0,7]\n",
    "def verification_preuve_de_travail(liste,preuve):\n",
    "    liste_test = liste + preuve\n",
    "    hach = hachage(liste_test)\n",
    "    # print(preuve,hach)\n",
    "    if est_plus_petit(hach,Max):\n",
    "        return True\n",
    "    else:\n",
    "        return False\n",
    "   \n",
    "    \n",
    "        \n",
    "\n",
    "### fonction qui donne le preuve de travail\n",
    "\n",
    "from random import randint\n",
    "def preuve_de_travail(liste):\n",
    "    hach = [1,1,1,1,1,1]\n",
    "    while not(est_plus_petit(hach,Max)):\n",
    "            preuve = [randint(0,99) for i in range(N)]\n",
    "            liste_test = liste + preuve\n",
    "            hach = hachage(liste_test)\n",
    "    print(preuve,hach)\n",
    "    return preuve\n",
    "\n",
    "#### solution particuliere\n",
    "from itertools import product\n",
    "def preuve_de_travail_bis(liste):\n",
    "    for preuve in product(range(100),range(100),range(100),range(100),range(100),range(100)):\n",
    "        preuve = list(preuve)\n",
    "        liste_test = liste + preuve\n",
    "        hach = hachage(liste_test)\n",
    "        if est_plus_petit(hach,Max):\n",
    "             break\n",
    "    print(preuve,hach)\n",
    "    return preuve\n",
    "\n",
    "\n",
    "\n",
    "\n",
    "### ACTIVITE 5 \"Les bitcoins\" \n",
    "### ajouter une transaction\n",
    "preuve_init = [0,0,0,0,0,0] \n",
    "Livre = [preuve_init]\n",
    "def ajout_transaction(transaction):\n",
    "    global Livre\n",
    "    Livre = Livre + [transaction]\n",
    "    return Livre\n",
    "\n",
    "### Creation fonction Minage\n",
    "def minage():\n",
    "    global Livre\n",
    "    transaction = Livre[-1]\n",
    "    prec_preuve = Livre[-2]\n",
    "    liste = prec_preuve + phrase_vers_liste(transaction)\n",
    "    preuve = preuve_de_travail(liste)\n",
    "    Livre = Livre + [preuve]\n",
    "    return Livre\n",
    "\n",
    "\n",
    "### fonction qui verefie le livre\n",
    "\n",
    "def verification_livre():\n",
    "    prec_preuve = Livre[-3]\n",
    "    transaction = Livre[-2]\n",
    "    preuve = Livre[-1]\n",
    "    hach = hachage(prec_preuve+phrase_vers_liste(transaction)+preuve)\n",
    "    if est_plus_petit(hach,Max):\n",
    "        return \"vrai\"\n",
    "    else:\n",
    "        return \"faux\"\n",
    "\n",
    "###################################################INTERFACES###########################################################################\n",
    "              \n",
    "\n",
    "              \n",
    "from tkinter import *\n",
    "import numpy as np\n",
    "from PIL import Image, ImageTk\n",
    "from random import *\n",
    "from tkinter import ttk\n",
    "from tkinter import messagebox\n",
    "from tkinter import IntVar\n",
    "from tkinter import StringVar\n",
    "import time\n",
    "import math\n",
    "\n",
    "\n",
    "# declaration fonction du travail\n",
    "def form(geometry = \"600x600\" , title = \" \" , is_center = True , bg = '#41B77F') :\n",
    "    pro =Tk()\n",
    "    pro.geometry(geometry)\n",
    "    pro.title(title)\n",
    "    pro.title(\"Application bitcoin\")\n",
    "    pro.iconbitmap(\"bitcoin2.ico\")\n",
    "    if is_center:tkcenter(pro)\n",
    "    return pro\n",
    "\n",
    "def tkcenter(form):\n",
    "    form.update()\n",
    "    fw = form.winfo_width()\n",
    "    fh=form.winfo_height()\n",
    "    sw = form.winfo_screenwidth()\n",
    "    sh = form.winfo_screenheight()\n",
    "    x = (sw - fw) / 2\n",
    "    y = (sh - fh) / 2\n",
    "    form.geometry(\"%dx%d+%d+%d\" % (fw , fh , x , y))\n",
    "def button(form,text=\"Button\",command=None):\n",
    "    btn=ttk.Button(form,text=text)\n",
    "    if command !=None :\n",
    "        btn.config(command = command)\n",
    "    return btn\n",
    "def label(form,text=\"label\"):\n",
    "    return ttk.Label(form,text=text)\n",
    "\n",
    "def entry(form,textvariable = None):\n",
    "    en=Entry(form)\n",
    "    if textvariable !=None:\n",
    "        en.config(textvariable = textvariable)\n",
    "    return en\n",
    "\n",
    "def msgbox(txt):\n",
    "    messagebox.showinfo(\"\",txt)\n",
    "def intvar():\n",
    "    return IntVar()\n",
    "def strvar():\n",
    "    return StringVar\n",
    "                        \n",
    "pro=form()\n",
    "bg=\"#41B77F\"\n",
    "pro.configure(bg=bg)\n",
    "tkcenter(pro)\n",
    "#pro.geometry('700x650')\n",
    "#window= Tk()\n",
    "#window.title(\"Application bitcoin\")\n",
    "#window.geometry(\"1080x720\")\n",
    "#window.minsize(480,360)\n",
    "#pour image\n",
    "#window.iconbitmap(\"bitcoin1.ico\")\n",
    "#window.config(background='#41B77F')\n",
    "\n",
    "#afficher\n",
    "#window.mainloop()\n",
    "label(pro,\"Temps d'execution\").grid(row=0,column=0,padx=10,pady=10)\n",
    "label(pro,\"Entre x\").grid(row=1,column=0,padx=10,pady=10)\n",
    "label(pro,\"Entre y\").grid(row=2,column=0,padx=10,pady=10)\n",
    "lbelresult=\n",
    "#label(pro,\"Entre p\").grid(row=2,column=0,padx=10,pady=10)\n",
    "ret=label(pro,\"Result\")\n",
    "ret.grid(row=3,column=0,padx=10,pady=10)\n",
    "en1=intvar()\n",
    "en2=intvar()\n",
    "#en3=intvar()\n",
    "\n",
    "entry(pro,en1).grid(row=1,column=1,padx=10,pady=10)\n",
    "entry(pro,en2).grid(row=2,column=1,padx=10,pady=10)\n",
    "#entry(pro,en2).grid(row=2,column=1,padx=10,pady=10)\n",
    "\n",
    "debut_chrono=time.time()\n",
    "time.sleep(2)\n",
    "\n",
    "\n",
    "def verification():\n",
    "    x=int(en1.get())\n",
    "    y=int(en2.get())\n",
    "    p=15486869\n",
    "    if x**2 % p==y:\n",
    "        return \"vrai\"\n",
    "    else:\n",
    "        return \"faux\"\n",
    "    \n",
    "fin_chrono=time.time()\n",
    "total_chrono=fin_chrono - debut_chrono\n",
    "\n",
    "#print(\"Temps d'exeuction(en secondes):\",total_chrono)\n",
    "ret[\"text\"]=str(total_chrono)\n",
    "\n",
    "Button(pro,text=\"verification\",command=verification).grid(row=3,column=2,columnspan=2 ,padx=10,pady=10)\n",
    "                        \n",
    "                        \n",
    "pro.mainloop()   "
   ]
  },
  {
   "cell_type": "code",
   "execution_count": 2,
   "id": "7279eb58",
   "metadata": {},
   "outputs": [
    {
     "data": {
      "text/plain": [
       "'vrai'"
      ]
     },
     "execution_count": 2,
     "metadata": {},
     "output_type": "execute_result"
    }
   ],
   "source": [
    "verification(6543210,8371779)"
   ]
  },
  {
   "cell_type": "code",
   "execution_count": 3,
   "id": "84dc7495",
   "metadata": {},
   "outputs": [
    {
     "data": {
      "text/plain": [
       "2893.402668140057"
      ]
     },
     "execution_count": 3,
     "metadata": {},
     "output_type": "execute_result"
    }
   ],
   "source": [
    "racine(8371779)"
   ]
  },
  {
   "cell_type": "code",
   "execution_count": 4,
   "id": "a4b1478a",
   "metadata": {},
   "outputs": [
    {
     "data": {
      "text/plain": [
       "[2, 3, 4, 2, 3, 4]"
      ]
     },
     "execution_count": 4,
     "metadata": {},
     "output_type": "execute_result"
    }
   ],
   "source": [
    "  \n",
    "addition([1,2,3,4,5,6],[1,1,1,98,98,98])"
   ]
  },
  {
   "cell_type": "code",
   "execution_count": 5,
   "id": "bdcdbd33",
   "metadata": {},
   "outputs": [
    {
     "data": {
      "text/plain": [
       "'faux'"
      ]
     },
     "execution_count": 5,
     "metadata": {},
     "output_type": "execute_result"
    }
   ],
   "source": [
    "est_plus_petit([0,0,1,2,3,4],[0,0,5])"
   ]
  },
  {
   "cell_type": "code",
   "execution_count": 6,
   "id": "4de7a25e",
   "metadata": {},
   "outputs": [
    {
     "data": {
      "text/plain": [
       "[0, 0, 0, 0, 18, 5, 18, 1, 32, 9, 11, 5]"
      ]
     },
     "execution_count": 6,
     "metadata": {},
     "output_type": "execute_result"
    }
   ],
   "source": [
    "phrase_vers_liste(\"vive moi\")"
   ]
  },
  {
   "cell_type": "code",
   "execution_count": 7,
   "id": "7342a68e",
   "metadata": {},
   "outputs": [
    {
     "data": {
      "text/plain": [
       "2893.402668140057"
      ]
     },
     "execution_count": 7,
     "metadata": {},
     "output_type": "execute_result"
    }
   ],
   "source": [
    "racine_approchee(8371779,20)"
   ]
  },
  {
   "cell_type": "code",
   "execution_count": 8,
   "id": "b15a0c15",
   "metadata": {},
   "outputs": [
    {
     "data": {
      "text/plain": [
       "[18, 74, 4, 42, 77, 42]"
      ]
     },
     "execution_count": 8,
     "metadata": {},
     "output_type": "execute_result"
    }
   ],
   "source": [
    "dix_tours([1, 1, 2, 3, 4, 5])"
   ]
  },
  {
   "cell_type": "code",
   "execution_count": 2,
   "id": "27749db2",
   "metadata": {},
   "outputs": [
    {
     "data": {
      "text/plain": [
       "[60, 82, 12, 94, 6, 80]"
      ]
     },
     "execution_count": 2,
     "metadata": {},
     "output_type": "execute_result"
    }
   ],
   "source": [
    "hachage([0, 1, 2, 3, 4, 5, 1, 1, 1, 1, 1, 1, 10, 10, 10, 10, 10, 10])"
   ]
  },
  {
   "cell_type": "code",
   "execution_count": 3,
   "id": "a0ec07c1",
   "metadata": {},
   "outputs": [
    {
     "data": {
      "text/plain": [
       "True"
      ]
     },
     "execution_count": 3,
     "metadata": {},
     "output_type": "execute_result"
    }
   ],
   "source": [
    "verification_preuve_de_travail([0,1,2,3,4,5],[12, 3, 24, 72, 47, 77])"
   ]
  },
  {
   "cell_type": "code",
   "execution_count": null,
   "id": "b843ab02",
   "metadata": {},
   "outputs": [],
   "source": []
  }
 ],
 "metadata": {
  "kernelspec": {
   "display_name": "Python 3 (ipykernel)",
   "language": "python",
   "name": "python3"
  },
  "language_info": {
   "codemirror_mode": {
    "name": "ipython",
    "version": 3
   },
   "file_extension": ".py",
   "mimetype": "text/x-python",
   "name": "python",
   "nbconvert_exporter": "python",
   "pygments_lexer": "ipython3",
   "version": "3.9.7"
  }
 },
 "nbformat": 4,
 "nbformat_minor": 5
}
