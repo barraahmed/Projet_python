{
 "cells": [
  {
   "cell_type": "code",
   "execution_count": 8,
   "id": "6d9c7a7b",
   "metadata": {},
   "outputs": [
    {
     "name": "stdout",
     "output_type": "stream",
     "text": [
      "Temps d'exeuction(en secondes): 2.007213830947876\n"
     ]
    }
   ],
   "source": [
    "##verification si il ya une solution\n",
    "import time\n",
    "debut_chrono=time.time()\n",
    "time.sleep(2)\n",
    "\n",
    "import math\n",
    "def verification(x,y):\n",
    "    \n",
    "    p=15486869\n",
    "    if x**2 % p==y:\n",
    "        return \"vrai\"\n",
    "    else:\n",
    "        return \"faux\"\n",
    "    \n",
    "\n",
    "fin_chrono=time.time()\n",
    "total_chrono=fin_chrono - debut_chrono\n",
    "print(\"Temps d'exeuction(en secondes):\",total_chrono)\n",
    "\n",
    "##affiche la solution si il existe\n",
    "import math\n",
    "def racine(y):\n",
    "    p=15486869\n",
    "    #y=8371779\n",
    "    n=10000000\n",
    "    h1=y%p\n",
    "    for i in range(0,n,1):\n",
    "        if  i % p == h1 and i!= y :\n",
    "            x=math.sqrt(i)\n",
    "            return (x)\n",
    "        else:\n",
    "            return \"pas de solution\"\n",
    "              "
   ]
  },
  {
   "cell_type": "code",
   "execution_count": 6,
   "id": "7279eb58",
   "metadata": {},
   "outputs": [
    {
     "data": {
      "text/plain": [
       "'vrai'"
      ]
     },
     "execution_count": 6,
     "metadata": {},
     "output_type": "execute_result"
    }
   ],
   "source": [
    "verification(6543210,8371779)"
   ]
  },
  {
   "cell_type": "code",
   "execution_count": 7,
   "id": "84dc7495",
   "metadata": {},
   "outputs": [
    {
     "data": {
      "text/plain": [
       "'pas de solution'"
      ]
     },
     "execution_count": 7,
     "metadata": {},
     "output_type": "execute_result"
    }
   ],
   "source": [
    "racine(8371779)"
   ]
  },
  {
   "cell_type": "code",
   "execution_count": null,
   "id": "a4b1478a",
   "metadata": {},
   "outputs": [],
   "source": []
  },
  {
   "cell_type": "code",
   "execution_count": null,
   "id": "bdcdbd33",
   "metadata": {},
   "outputs": [],
   "source": []
  }
 ],
 "metadata": {
  "kernelspec": {
   "display_name": "Python 3 (ipykernel)",
   "language": "python",
   "name": "python3"
  },
  "language_info": {
   "codemirror_mode": {
    "name": "ipython",
    "version": 3
   },
   "file_extension": ".py",
   "mimetype": "text/x-python",
   "name": "python",
   "nbconvert_exporter": "python",
   "pygments_lexer": "ipython3",
   "version": "3.10.0"
  }
 },
 "nbformat": 4,
 "nbformat_minor": 5
}
