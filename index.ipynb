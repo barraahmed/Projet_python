{
 "cells": [
  {
   "cell_type": "code",
   "execution_count": null,
   "metadata": {},
   "outputs": [],
   "source": [
    "import math\n",
    "def verfication(x,y):\n",
    "    p=15486869\n",
    "    if x**2%p==y:\n",
    "        return 1\n",
    "        else:\n",
    "            return 0"
   ]
  }
 ],
 "metadata": {
  "language_info": {
   "name": "python"
  },
  "orig_nbformat": 4
 },
 "nbformat": 4,
 "nbformat_minor": 2
}
